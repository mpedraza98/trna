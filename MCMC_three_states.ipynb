{
 "cells": [
  {
   "cell_type": "code",
   "execution_count": 29,
   "metadata": {},
   "outputs": [
    {
     "name": "stdout",
     "output_type": "stream",
     "text": [
      "Running on PyMC v5.10.4\n"
     ]
    }
   ],
   "source": [
    "import os\n",
    "from numba import njit\n",
    "import arviz as az\n",
    "import pandas as pd\n",
    "import matplotlib.pyplot as plt\n",
    "import numpy as np\n",
    "import pymc as pm\n",
    "from scipy.integrate import odeint\n",
    "\n",
    "print(f\"Running on PyMC v{pm.__version__}\")\n",
    "plt.rcParams['text.usetex'] = True"
   ]
  },
  {
   "cell_type": "code",
   "execution_count": 4,
   "metadata": {},
   "outputs": [],
   "source": [
    "%config InlineBackend.figure_format = 'retina'\n",
    "# Initialize random number generator\n",
    "RANDOM_SEED = 8927\n",
    "rng = np.random.default_rng(RANDOM_SEED)\n",
    "az.style.use(\"arviz-darkgrid\")"
   ]
  },
  {
   "cell_type": "code",
   "execution_count": 8,
   "metadata": {},
   "outputs": [],
   "source": [
    "# SET THE WORKING DIRECTORY\n",
    "CWD = '/Users/miguel/Documents/Internship_CENTURI'\n",
    "os.chdir(CWD)\n",
    "## DEFINES WORKING CONSTANTS\n",
    "#FILENAME = args.filename\n",
    "FILENAME = 'plate_counts.csv'\n",
    "SAVE_FN = FILENAME.strip().split('.')[0]\n"
   ]
  },
  {
   "cell_type": "code",
   "execution_count": 39,
   "metadata": {},
   "outputs": [],
   "source": [
    "class EvolutionExperiment():\n",
    "    '''\n",
    "    Takes as input:\n",
    "        name: name of the model\n",
    "        t: time array\n",
    "        params: dictionary with 5 parameters, the replication rates(r_f,r_c), transition rates(mu_fc, mu_cf), carrying capacity(K)\n",
    "        p0: inital point\n",
    "        p1: initial point for the subsequent runs of the evolution experiment\n",
    "    '''\n",
    "    # For the equations I will take the time to be in minutes, considering that the replication rates found are in minutes\n",
    "    # Since each experiment lasts a day, I will asume the time interval to be 24*60 long\n",
    "    time_interval = np.arange(0, 24*60)\n",
    "    \n",
    "    def __init__(self, name, number_days, model_params, dilution_percentage = 1e-3) -> None:\n",
    "        \n",
    "        self.name = name\n",
    "        self.number_days = number_days\n",
    "        self.dilution_percentage = dilution_percentage\n",
    "        self.day = 0\n",
    "        self.daily_fraction = np.zeros((self.number_days, 3))\n",
    "        self.history = np.zeros((self.number_days, EvolutionExperiment.time_interval.shape[0], 3))\n",
    "\n",
    "        self.__frac = 0\n",
    "        self.p0 = 0\n",
    "        self.__p1 = 0\n",
    "        \n",
    "        \n",
    "        # Parameters of the model\n",
    "        # The default for the transition rates is the value from\n",
    "        # Mutations per generation for wild type (https://doi.org/10.1093/gbe/evu284)\n",
    "        self.r_f = model_params.get('r_f', 0.04060)                # Founder's replication rate\n",
    "        self.r_d = model_params.get('r_d', 0.05448)                # Duplication's replication rate\n",
    "        self.r_s = model_params.get('r_s', 0.01)                # SNP mutation replication rate\n",
    "        self.mu_fd = model_params.get('mu_fd', 4.25e-9)     # Transition rate F->D\n",
    "        self.mu_fs = model_params.get('mu_cf', 4.25e-9)     # Transition rate F->S\n",
    "        self.mu_df = model_params.get('mu_fd', 4.25e-9)     # Transition rate D->F\n",
    "        self.mu_sf = model_params.get('mu_cf', 4.25e-9)     # Transition rate S->F\n",
    "        self.K = model_params.get('K', 1e2)                          # Carrying capacity, 10^10 for the experiment\n",
    "\n",
    "        # Solution of the model\n",
    "        self.sol = 0\n",
    "    \n",
    "    #Private variables from the class\n",
    "    @property\n",
    "    def frac(self):\n",
    "        temp_frac = self.sol / self.sol.sum(axis = 1)[:, None]\n",
    "        self.__frac = temp_frac\n",
    "        return self.__frac\n",
    "    @property\n",
    "    def p1(self):\n",
    "        return self.__p1\n",
    "    \n",
    "    @p1.setter\n",
    "    def p1(self, value):\n",
    "        self.__p1 = value\n",
    "    \n",
    "    def model(self, vars, t):\n",
    "        #Unpack the variables\n",
    "        F, D, S = vars\n",
    "        # Define the system of equations     \n",
    "        M = np.array([self.r_f * (1 - (self.mu_fd + self.mu_fs)/ np.log(2)) * F + self.mu_df / np.log(2) * self.r_d * D +  self.mu_sf / np.log(2) * self.r_s * S,\n",
    "                      self.r_f * self.mu_fd / np.log(2) * F + self.r_d * (1 - self.mu_df / np.log(2)) * D,\n",
    "                      self.r_f * self.mu_fs / np.log(2) * F + self.r_s * (1 - self.mu_sf / np.log(2)) * D])\n",
    "        return M * (1- (F + D + S) / self.K)\n",
    "     \n",
    "    def solve(self):\n",
    "        # Solve the system\n",
    "        sol = odeint(self.model, y0 = self.__p1, t = EvolutionExperiment.time_interval)\n",
    "        self.sol = sol\n",
    "\n",
    "    def run_experiment(self):\n",
    "        print(\"Running the evolution experiment\")\n",
    "        self.__p1 = self.p0.copy()\n",
    "        for day in np.arange(self.number_days):\n",
    "            self.solve()\n",
    "            self.history[day] = self.sol\n",
    "            self.__p1 = self.sol[-1] * self.dilution_percentage\n",
    "            self.daily_fraction[day] = self.sol[-1] / self.sol[-1].sum()\n",
    "            self.day += 1\n",
    "\n",
    "    def plot_sol(self, ax):\n",
    "        ax.plot(EvolutionExperiment.time_interval, self.sol, label = ['F', 'C'])\n",
    "        ax.set_title(self.name)\n",
    "        #ax.set_ylabel('Population(x10^8)')\n",
    "        #ax.set_xlabel('Time')\n",
    "        ax.legend()\n",
    "        return ax\n",
    "    \n",
    "    def plot_frac(self, ax):\n",
    "        temp_frac = self.sol / self.sol.sum(axis = 1)[:, None]\n",
    "        ax.plot(self.time, temp_frac, label = ['F', 'C'])\n",
    "        ax.set_title(self.name)\n",
    "        #ax.set_ylabel('Population(x10^8)')\n",
    "        #ax.set_xlabel('Time')\n",
    "        ax.legend()\n",
    "        return ax\n",
    "\n",
    "    def plot_evolution_frac(self, interactive = False):\n",
    "        days = np.arange(self.number_days)\n",
    "        fig, ax = plt.subplots(figsize = (10, 8))\n",
    "\n",
    "        founder_line = ax.plot(days, self.daily_fraction[:, 0], label = 'Founder')[0]\n",
    "        duplication_line = ax.plot(days, self.daily_fraction[:, 1], 'x' ,label = 'Duplication')[0]\n",
    "        snp_line = ax.plot(days, self.daily_fraction[:, 2], label = 'SNP')[0]\n",
    "        #large_line = ax.plot(days, self.daily_fraction[:, 1] + self.daily_fraction[:, 2], label = 'Duplication + SNP')[0]\n",
    "        ax.set_title(self.name);\n",
    "        ax.set_ylabel('Population fraction');\n",
    "        ax.set_xlabel('Day');\n",
    "        ax.legend();\n",
    "    \n",
    "\n",
    "    def __str__(self) -> str:\n",
    "        return \"name : {} \\nparameters (r_f : {}, mu_fc : {}, r_c : {}, mu_cf : {}, K : {}) \\n \\\n",
    "                \".format(self.name, self.r_f, self.mu_fc, self.r_c, self.mu_cf, self.K)\n",
    "\n"
   ]
  },
  {
   "cell_type": "code",
   "execution_count": 40,
   "metadata": {},
   "outputs": [],
   "source": [
    "test_p0 = np.array([0.001, 0, 0])\n",
    "num_days = 40\n",
    "# When using delserCGA the replication rate of the founder is found using the growth curve fits\n",
    "# Additionally, the replication rate of the mutant is assumed to be the rate of M2lop obtained with the gc fit\n",
    "# The number of days in the experiment is 100, for testing let's assume 10\n",
    "# M2lop replication rate : 0.05447838370459147\n",
    "# delserCGA replication rate : 0.04060341705556068\n",
    "# Mutations per generation for wild type (https://doi.org/10.1093/gbe/evu284)\n",
    "# 4.25e-9\n",
    "# Using the same value for all as a proxy\n",
    "\n",
    "test_params = {'r_f' : 0.04060, 'r_d' : 0.05448, 'r_s' : 0.058, 'mu_fd' : 4.25e-9, 'mu_fs' : 4.25e-9, 'mu_df' : 4.25e-9, 'mu_sf' : 4.25e-9, 'K' : 21.31}\n",
    "model_experiment = EvolutionExperiment('delserCGA', num_days , test_params)\n",
    "model_experiment.p0 = test_p0\n",
    "model_experiment.p1 = test_p0\n"
   ]
  },
  {
   "cell_type": "code",
   "execution_count": 41,
   "metadata": {},
   "outputs": [
    {
     "ename": "TypingError",
     "evalue": "Failed in nopython mode pipeline (step: nopython frontend)\n\u001b[1mUntyped global name 'odeint':\u001b[0m \u001b[1m\u001b[1mCannot determine Numba type of <class 'function'>\u001b[0m\n\u001b[1m\nFile \"../../../../var/folders/j5/gzgbj85d7fl1z1qxpqp965kc0000gq/T/ipykernel_38229/1550585372.py\", line 70:\u001b[0m\n\u001b[1m<source missing, REPL/exec in use?>\u001b[0m\n\u001b[0m \n\nThis error may have been caused by the following argument(s):\n- argument 0: \u001b[1mCannot determine Numba type of <class '__main__.EvolutionExperiment'>\u001b[0m\n",
     "output_type": "error",
     "traceback": [
      "\u001b[0;31m---------------------------------------------------------------------------\u001b[0m",
      "\u001b[0;31mTypingError\u001b[0m                               Traceback (most recent call last)",
      "Cell \u001b[0;32mIn[41], line 3\u001b[0m\n\u001b[1;32m      1\u001b[0m \u001b[38;5;28;01mfrom\u001b[39;00m \u001b[38;5;21;01mtime\u001b[39;00m \u001b[38;5;28;01mimport\u001b[39;00m perf_counter\n\u001b[1;32m      2\u001b[0m t1 \u001b[38;5;241m=\u001b[39m perf_counter()\n\u001b[0;32m----> 3\u001b[0m model_experiment\u001b[38;5;241m.\u001b[39msolve()\n\u001b[1;32m      4\u001b[0m t2 \u001b[38;5;241m=\u001b[39m perf_counter()\n\u001b[1;32m      5\u001b[0m \u001b[38;5;66;03m#t3 = perf_counter()\u001b[39;00m\n\u001b[1;32m      6\u001b[0m \u001b[38;5;66;03m#model_experiment.solve2()\u001b[39;00m\n\u001b[1;32m      7\u001b[0m \u001b[38;5;66;03m#t4 = perf_counter()\u001b[39;00m\n",
      "File \u001b[0;32m~/anaconda3/envs/pymc_env/lib/python3.11/site-packages/numba/core/dispatcher.py:468\u001b[0m, in \u001b[0;36m_DispatcherBase._compile_for_args\u001b[0;34m(self, *args, **kws)\u001b[0m\n\u001b[1;32m    464\u001b[0m         msg \u001b[38;5;241m=\u001b[39m (\u001b[38;5;124mf\u001b[39m\u001b[38;5;124m\"\u001b[39m\u001b[38;5;132;01m{\u001b[39;00m\u001b[38;5;28mstr\u001b[39m(e)\u001b[38;5;241m.\u001b[39mrstrip()\u001b[38;5;132;01m}\u001b[39;00m\u001b[38;5;124m \u001b[39m\u001b[38;5;130;01m\\n\u001b[39;00m\u001b[38;5;130;01m\\n\u001b[39;00m\u001b[38;5;124mThis error may have been caused \u001b[39m\u001b[38;5;124m\"\u001b[39m\n\u001b[1;32m    465\u001b[0m                \u001b[38;5;124mf\u001b[39m\u001b[38;5;124m\"\u001b[39m\u001b[38;5;124mby the following argument(s):\u001b[39m\u001b[38;5;130;01m\\n\u001b[39;00m\u001b[38;5;132;01m{\u001b[39;00margs_str\u001b[38;5;132;01m}\u001b[39;00m\u001b[38;5;130;01m\\n\u001b[39;00m\u001b[38;5;124m\"\u001b[39m)\n\u001b[1;32m    466\u001b[0m         e\u001b[38;5;241m.\u001b[39mpatch_message(msg)\n\u001b[0;32m--> 468\u001b[0m     error_rewrite(e, \u001b[38;5;124m'\u001b[39m\u001b[38;5;124mtyping\u001b[39m\u001b[38;5;124m'\u001b[39m)\n\u001b[1;32m    469\u001b[0m \u001b[38;5;28;01mexcept\u001b[39;00m errors\u001b[38;5;241m.\u001b[39mUnsupportedError \u001b[38;5;28;01mas\u001b[39;00m e:\n\u001b[1;32m    470\u001b[0m     \u001b[38;5;66;03m# Something unsupported is present in the user code, add help info\u001b[39;00m\n\u001b[1;32m    471\u001b[0m     error_rewrite(e, \u001b[38;5;124m'\u001b[39m\u001b[38;5;124munsupported_error\u001b[39m\u001b[38;5;124m'\u001b[39m)\n",
      "File \u001b[0;32m~/anaconda3/envs/pymc_env/lib/python3.11/site-packages/numba/core/dispatcher.py:409\u001b[0m, in \u001b[0;36m_DispatcherBase._compile_for_args.<locals>.error_rewrite\u001b[0;34m(e, issue_type)\u001b[0m\n\u001b[1;32m    407\u001b[0m     \u001b[38;5;28;01mraise\u001b[39;00m e\n\u001b[1;32m    408\u001b[0m \u001b[38;5;28;01melse\u001b[39;00m:\n\u001b[0;32m--> 409\u001b[0m     \u001b[38;5;28;01mraise\u001b[39;00m e\u001b[38;5;241m.\u001b[39mwith_traceback(\u001b[38;5;28;01mNone\u001b[39;00m)\n",
      "\u001b[0;31mTypingError\u001b[0m: Failed in nopython mode pipeline (step: nopython frontend)\n\u001b[1mUntyped global name 'odeint':\u001b[0m \u001b[1m\u001b[1mCannot determine Numba type of <class 'function'>\u001b[0m\n\u001b[1m\nFile \"../../../../var/folders/j5/gzgbj85d7fl1z1qxpqp965kc0000gq/T/ipykernel_38229/1550585372.py\", line 70:\u001b[0m\n\u001b[1m<source missing, REPL/exec in use?>\u001b[0m\n\u001b[0m \n\nThis error may have been caused by the following argument(s):\n- argument 0: \u001b[1mCannot determine Numba type of <class '__main__.EvolutionExperiment'>\u001b[0m\n"
     ]
    }
   ],
   "source": [
    "from time import perf_counter\n",
    "t1 = perf_counter()\n",
    "model_experiment.solve()\n",
    "t2 = perf_counter()\n",
    "#t3 = perf_counter()\n",
    "#model_experiment.solve2()\n",
    "#t4 = perf_counter()\n",
    "print(f\"{t2 - t1} seconds\")\n",
    "#print(f\"{t4 - t3} seconds\")"
   ]
  },
  {
   "cell_type": "code",
   "execution_count": null,
   "metadata": {},
   "outputs": [],
   "source": [
    "0.00432062498293817 seconds\n",
    "0.0023027079878374934 seconds\n",
    "\n",
    "**********\n",
    "0.005409625009633601 seconds\n",
    "0.004211000050418079 seconds"
   ]
  },
  {
   "cell_type": "code",
   "execution_count": null,
   "metadata": {},
   "outputs": [],
   "source": [
    "from time import perf_counter"
   ]
  },
  {
   "cell_type": "code",
   "execution_count": null,
   "metadata": {},
   "outputs": [],
   "source": [
    "model = pm.Model()\n",
    "with model:\n",
    "    "
   ]
  }
 ],
 "metadata": {
  "kernelspec": {
   "display_name": "pymc_env",
   "language": "python",
   "name": "python3"
  },
  "language_info": {
   "codemirror_mode": {
    "name": "ipython",
    "version": 3
   },
   "file_extension": ".py",
   "mimetype": "text/x-python",
   "name": "python",
   "nbconvert_exporter": "python",
   "pygments_lexer": "ipython3",
   "version": "3.11.7"
  }
 },
 "nbformat": 4,
 "nbformat_minor": 2
}
