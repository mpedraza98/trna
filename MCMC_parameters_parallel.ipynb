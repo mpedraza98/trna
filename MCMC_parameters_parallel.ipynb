{
 "cells": [
  {
   "cell_type": "code",
   "execution_count": 1,
   "metadata": {},
   "outputs": [],
   "source": [
    "import os\n",
    "import numpy as np\n",
    "import pandas as pd\n",
    "import matplotlib.pyplot as plt\n",
    "from scipy.integrate import odeint\n",
    "import emcee\n",
    "import h5py\n",
    "import tqdm\n",
    "from multiprocessing import Pool\n"
   ]
  },
  {
   "cell_type": "code",
   "execution_count": 2,
   "metadata": {},
   "outputs": [],
   "source": [
    "class EvolutionExperiment():\n",
    "    '''\n",
    "    Takes as input:\n",
    "        name: name of the model\n",
    "        t: time array\n",
    "        params: dictionary with 5 parameters, the replication rates(r_f,r_c), transition rates(mu_fc, mu_cf), carrying capacity(K)\n",
    "        p0: inital point\n",
    "        p1: initial point for the subsequent runs of the evolution experiment\n",
    "    '''\n",
    "    # For the equations I will take the time to be in minutes, considering that the replication rates found are in minutes\n",
    "    # Since each experiment lasts a day, I will asume the time interval to be 24*60 long\n",
    "    time_interval = np.arange(0, 24*60)\n",
    "    \n",
    "    def __init__(self, name, number_days, model_params, dilution_percentage = 1e-3) -> None:\n",
    "        \n",
    "        self.name = name\n",
    "        self.number_days = number_days\n",
    "        self.dilution_percentage = dilution_percentage\n",
    "        self.day = 0\n",
    "        self.daily_fraction = np.zeros((self.number_days, 2))\n",
    "        self.history = np.zeros((self.number_days, EvolutionExperiment.time_interval.shape[0], 2))\n",
    "\n",
    "        self.__frac = 0\n",
    "        self.p0 = 0\n",
    "        self.__p1 = 0\n",
    "        \n",
    "        \n",
    "        # Parameters of the model\n",
    "        # The default for the transition rates is the value from\n",
    "        # Mutations per generation for wild type (https://doi.org/10.1093/gbe/evu284)\n",
    "        self.r_f = model_params.get('r_f',0)\n",
    "        self.mu_fc = model_params.get('mu_fc', 4.25e-9)\n",
    "        self.r_c = model_params.get('r_c', 0)\n",
    "        self.mu_cf = model_params.get('mu_cf', 4.25e-9)\n",
    "        self.K = model_params['K']\n",
    "\n",
    "        # Solution of the model\n",
    "        self.sol = 0\n",
    "    \n",
    "    #Private variables from the class\n",
    "    @property\n",
    "    def frac(self):\n",
    "        temp_frac = self.sol / self.sol.sum(axis = 1)[:, None]\n",
    "        self.__frac = temp_frac\n",
    "        return self.__frac\n",
    "    @property\n",
    "    def p1(self):\n",
    "        return self.__p1\n",
    "    \n",
    "    @p1.setter\n",
    "    def p1(self, value):\n",
    "        self.__p1 = value\n",
    "    \n",
    "\n",
    "    def model(self, vars, t):\n",
    "        # Define the system of equations     \n",
    "        M = np.array([[self.r_f * (1 - self.mu_fc / np.log(2)), self.mu_cf / np.log(2) * self.r_c], [self.r_f * self.mu_fc / np.log(2), self.r_c * (1 - self.mu_cf / np.log(2))]])\n",
    "        return M.dot(vars) * (1- vars.sum() / self.K)\n",
    "\n",
    "    def solve(self):\n",
    "        # Solve the system\n",
    "        sol = odeint(self.model, y0 = self.__p1, t = EvolutionExperiment.time_interval)\n",
    "        self.sol = sol\n",
    "\n",
    "    def run_experiment(self):\n",
    "        print(\"Running the evolution experiment\")\n",
    "        self.__p1 = self.p0.copy()\n",
    "        for day in np.arange(self.number_days):\n",
    "            self.solve()\n",
    "            self.history[day] = self.sol\n",
    "            self.__p1 = self.sol[-1] * self.dilution_percentage\n",
    "            self.daily_fraction[day] = self.sol[-1] / self.sol[-1].sum()\n",
    "            self.day += 1\n",
    "\n",
    "    def run_experiment_inference(self, mu_fc, mu_cf, x = 0):\n",
    "        #print(\"Running the evolution experiment\")\n",
    "        self.mu_cf = mu_cf\n",
    "        self.mu_fc = mu_fc\n",
    "        self.__p1 = self.p0.copy()\n",
    "        for day in np.arange(self.number_days):\n",
    "            self.solve()\n",
    "            self.history[day] = self.sol\n",
    "            self.__p1 = self.sol[-1] * self.dilution_percentage\n",
    "            self.daily_fraction[day] = self.sol[-1] / self.sol[-1].sum()\n",
    "            self.day += 1\n",
    "    \n",
    "\n",
    "    # Let's define the functions to estimate the parameters based on the mcmc procedure\n",
    "\n",
    "    "
   ]
  },
  {
   "cell_type": "code",
   "execution_count": 3,
   "metadata": {},
   "outputs": [],
   "source": [
    "np.random.seed(42)\n",
    "test_p0 = np.array([0.001, 0])\n",
    "num_days = 110\n",
    "# When using delserCGA the replication rate of the founder is found using the growth curve fits\n",
    "# Additionally, the replication rate of the mutant is assumed to be the rate of M2lop obtained with the gc fit\n",
    "# The number of days in the experiment is 100, for testing let's assume 10\n",
    "# M2lop replication rate : 0.05447838370459147\n",
    "# delserCGA replication rate : 0.04060341705556068\n",
    "\n",
    "test_params = {'r_f' : 0.04060, 'r_c' : 0.05448, 'mu_fc' : 4.25e-9, 'mu_cf' : 4.25e-9, 'K' : 21.31}\n",
    "model_experiment = EvolutionExperiment('delserCGA', num_days , test_params)\n",
    "model_experiment.p0 = test_p0\n",
    "\n",
    "#model_experiment.run_experiment()"
   ]
  },
  {
   "cell_type": "code",
   "execution_count": 4,
   "metadata": {},
   "outputs": [],
   "source": [
    "def log_prior(theta):\n",
    "    mu_fc, mu_cf = theta\n",
    "    if mu_fc > 0 and mu_cf > 0:\n",
    "        return 0.0\n",
    "    return -np.inf"
   ]
  },
  {
   "cell_type": "markdown",
   "metadata": {},
   "source": [
    "To define the log likelihood let's choose only the fraction of small bacteria"
   ]
  },
  {
   "cell_type": "code",
   "execution_count": 5,
   "metadata": {},
   "outputs": [],
   "source": [
    "def log_likelihood(theta, x, y, std = 1):\n",
    "    mu_fc, mu_cf = theta\n",
    "    model_experiment.run_experiment_inference(mu_fc, mu_cf)\n",
    "    temp_diff = model_experiment.daily_fraction[x][:,0] - y\n",
    "    return -0.5*(np.sum(temp_diff**2 / (std**2)))\n",
    "    "
   ]
  },
  {
   "cell_type": "code",
   "execution_count": 6,
   "metadata": {},
   "outputs": [],
   "source": [
    "# ENCEE needs a lnprob function to put together prior and posterior (in log space)\n",
    "def log_prob(theta, x, y):\n",
    "    lp = log_prior(theta)\n",
    "    if not np.isfinite(lp):\n",
    "        return -np.inf\n",
    "    return lp + log_likelihood(theta, x, y)"
   ]
  },
  {
   "cell_type": "markdown",
   "metadata": {},
   "source": [
    "To calculate the likelihood I need to test only the points with the same day as the experiment,\n",
    "solve the equation for 100 days and select only those with information in the experiment as well"
   ]
  },
  {
   "cell_type": "code",
   "execution_count": 7,
   "metadata": {},
   "outputs": [],
   "source": [
    "df = pd.read_csv('/Users/miguel/Documents/Internship_CENTURI/data/plate_counts.csv')\n",
    "df = df.sort_values(['founder', 'replicate']).reset_index(drop=True)\n",
    "temp_df = df[(df.founder=='delserCGA') & (df.replicate == 1)]\n"
   ]
  },
  {
   "cell_type": "code",
   "execution_count": 8,
   "metadata": {},
   "outputs": [],
   "source": [
    "\n",
    "start = np.array([test_params['mu_fc'], test_params['mu_cf']])\n",
    "ndim, nwalkers, nsteps = start.shape[0], 100, 500\n",
    "pos = [start + 1e-9*np.random.randn(ndim) for i in range(nwalkers)]"
   ]
  },
  {
   "cell_type": "code",
   "execution_count": 9,
   "metadata": {},
   "outputs": [
    {
     "data": {
      "text/plain": [
       "Text(0, 0.5, '$mu_{fc}$')"
      ]
     },
     "execution_count": 9,
     "metadata": {},
     "output_type": "execute_result"
    },
    {
     "data": {
      "image/png": "[encoded data removed]",
      "text/plain": [
       "<Figure size 640x480 with 1 Axes>"
      ]
     },
     "metadata": {},
     "output_type": "display_data"
    }
   ],
   "source": [
    "plt.plot(np.array(pos)[:,0], np.array(pos)[:,1], '.')\n",
    "plt.plot(test_params['mu_fc'], test_params['mu_cf'], 'x')\n",
    "plt.xlabel(r\"$mu_{cf}$\")\n",
    "plt.ylabel(r\"$mu_{fc}$\")"
   ]
  },
  {
   "cell_type": "code",
   "execution_count": 10,
   "metadata": {},
   "outputs": [],
   "source": [
    "x = temp_df.day.values\n",
    "y = temp_df[['frac_small']].values"
   ]
  },
  {
   "cell_type": "code",
   "execution_count": 13,
   "metadata": {},
   "outputs": [],
   "source": [
    "# Set up the backend\n",
    "# Don't forget to clear it in case the file already exists\n",
    "filename = \"mcmc_evolution_experiment_parallel.h5\"\n",
    "backend = emcee.backends.HDFBackend(filename)\n",
    "backend.reset(nwalkers, ndim)\n",
    "\n",
    "# Initialize the sampler\n",
    "sampler = emcee.EnsembleSampler(nwalkers, ndim, log_prob, args=(x, y), backend=backend)"
   ]
  },
  {
   "cell_type": "code",
   "execution_count": 14,
   "metadata": {},
   "outputs": [
    {
     "name": "stderr",
     "output_type": "stream",
     "text": [
      "  2%|▏         | 184/10000 [1:15:07<77:39:59, 28.48s/it] /Users/miguel/anaconda3/envs/trna/lib/python3.10/site-packages/scipy/integrate/_odepack_py.py:248: ODEintWarning: Excess work done on this call (perhaps wrong Dfun type). Run with full_output = 1 to get quantitative information.\n",
      "  warnings.warn(warning_msg, ODEintWarning)\n",
      "  3%|▎         | 251/10000 [1:59:46<92:40:09, 34.22s/it]  /Users/miguel/anaconda3/envs/trna/lib/python3.10/site-packages/scipy/integrate/_odepack_py.py:248: ODEintWarning: Repeated error test failures (internal error). Run with full_output = 1 to get quantitative information.\n",
      "  warnings.warn(warning_msg, ODEintWarning)\n"
     ]
    },
    {
     "name": "stdout",
     "output_type": "stream",
     "text": [
      " lsoda--  at t(=r1) and step size h(=r2), the error\u0000\u0000\n",
      "       test failed repeatedly or with abs(h) = hmin\u0000\u0000\n",
      "      in above,  r1 =  0.1462111863746D+03   r2 =  0.9108041107885D-09\n"
     ]
    },
    {
     "name": "stderr",
     "output_type": "stream",
     "text": [
      "  3%|▎         | 256/10000 [2:02:52<100:11:17, 37.02s/it]"
     ]
    },
    {
     "name": "stdout",
     "output_type": "stream",
     "text": [
      " lsoda--  at t(=r1) and step size h(=r2), the error\u0000\u0000\n",
      "       test failed repeatedly or with abs(h) = hmin\u0000\u0000\n",
      "      in above,  r1 =  0.1324270941230D+03   r2 =  0.4053724407402D-08\n",
      " lsoda--  at t(=r1) and step size h(=r2), the error\u0000\u0000\n",
      "       test failed repeatedly or with abs(h) = hmin\u0000\u0000\n",
      "      in above,  r1 =  0.1324270941230D+03   r2 =  0.4053724407402D-08\n",
      " lsoda--  at t(=r1) and step size h(=r2), the error\u0000\u0000\n",
      "       test failed repeatedly or with abs(h) = hmin\u0000\u0000\n",
      "      in above,  r1 =  0.1324270941230D+03   r2 =  0.4053724407402D-08\n",
      " lsoda--  at t(=r1) and step size h(=r2), the error\u0000\u0000\n",
      "       test failed repeatedly or with abs(h) = hmin\u0000\u0000\n",
      "      in above,  r1 =  0.1324270941230D+03   r2 =  0.4053724407402D-08\n",
      " lsoda--  at t(=r1) and step size h(=r2), the error\u0000\u0000\n",
      "       test failed repeatedly or with abs(h) = hmin\u0000\u0000\n",
      "      in above,  r1 =  0.1540479216891D+03   r2 =  0.2081846835874D-07\n",
      " lsoda--  at t(=r1) and step size h(=r2), the error\u0000\u0000\n",
      "       test failed repeatedly or with abs(h) = hmin\u0000\u0000\n",
      "      in above,  r1 =  0.1540479216891D+03   r2 =  0.2081846835874D-07\n"
     ]
    },
    {
     "name": "stderr",
     "output_type": "stream",
     "text": [
      "  3%|▎         | 257/10000 [2:03:33<102:56:37, 38.04s/it]"
     ]
    },
    {
     "name": "stdout",
     "output_type": "stream",
     "text": [
      " lsoda--  at t(=r1) and step size h(=r2), the error\u0000\u0000\n",
      "       test failed repeatedly or with abs(h) = hmin\u0000\u0000\n",
      "      in above,  r1 =  0.1508452865247D+03   r2 =  0.2023294514040D-07\n",
      " lsoda--  at t(=r1) and step size h(=r2), the error\u0000\u0000\n",
      "       test failed repeatedly or with abs(h) = hmin\u0000\u0000\n",
      "      in above,  r1 =  0.1508452865247D+03   r2 =  0.2023294514040D-07\n",
      " lsoda--  at t(=r1) and step size h(=r2), the error\u0000\u0000\n",
      "       test failed repeatedly or with abs(h) = hmin\u0000\u0000\n",
      "      in above,  r1 =  0.1508452865247D+03   r2 =  0.2023294514040D-07\n",
      " lsoda--  at t(=r1) and step size h(=r2), the error\u0000\u0000\n",
      "       test failed repeatedly or with abs(h) = hmin\u0000\u0000\n",
      "      in above,  r1 =  0.1508452865247D+03   r2 =  0.2023294514040D-07\n",
      " lsoda--  at t(=r1) and step size h(=r2), the error\u0000\u0000\n",
      "       test failed repeatedly or with abs(h) = hmin\u0000\u0000\n",
      "      in above,  r1 =  0.1508452865247D+03   r2 =  0.2023294514040D-07\n"
     ]
    },
    {
     "name": "stderr",
     "output_type": "stream",
     "text": [
      "  3%|▎         | 262/10000 [2:06:56<108:37:03, 40.15s/it]"
     ]
    },
    {
     "name": "stdout",
     "output_type": "stream",
     "text": [
      " lsoda--  at t(=r1) and step size h(=r2), the error\u0000\u0000\n",
      "       test failed repeatedly or with abs(h) = hmin\u0000\u0000\n",
      "      in above,  r1 =  0.1536108099806D+03   r2 =  0.2133361085194D-07\n",
      " lsoda--  at t(=r1) and step size h(=r2), the error\u0000\u0000\n",
      "       test failed repeatedly or with abs(h) = hmin\u0000\u0000\n",
      "      in above,  r1 =  0.1536108099806D+03   r2 =  0.2133361085194D-07\n",
      " lsoda--  at t(=r1) and step size h(=r2), the error\u0000\u0000\n",
      "       test failed repeatedly or with abs(h) = hmin\u0000\u0000\n",
      "      in above,  r1 =  0.1536108099806D+03   r2 =  0.2133361085194D-07\n",
      " lsoda--  at t(=r1) and step size h(=r2), the error\u0000\u0000\n",
      "       test failed repeatedly or with abs(h) = hmin\u0000\u0000\n",
      "      in above,  r1 =  0.1536108099806D+03   r2 =  0.2133361085194D-07\n",
      " lsoda--  at t(=r1) and step size h(=r2), the error\u0000\u0000\n",
      "       test failed repeatedly or with abs(h) = hmin\u0000\u0000\n",
      "      in above,  r1 =  0.1536108099806D+03   r2 =  0.2133361085194D-07\n"
     ]
    },
    {
     "name": "stderr",
     "output_type": "stream",
     "text": [
      "  3%|▎         | 263/10000 [2:07:37<109:37:18, 40.53s/it]"
     ]
    },
    {
     "name": "stdout",
     "output_type": "stream",
     "text": [
      " lsoda--  at t(=r1) and step size h(=r2), the error\u0000\u0000\n",
      "       test failed repeatedly or with abs(h) = hmin\u0000\u0000\n",
      "      in above,  r1 =  0.1509763414810D+03   r2 =  0.1925143697854D-07\n",
      " lsoda--  at t(=r1) and step size h(=r2), the error\u0000\u0000\n",
      "       test failed repeatedly or with abs(h) = hmin\u0000\u0000\n",
      "      in above,  r1 =  0.1509763414810D+03   r2 =  0.1925143697854D-07\n"
     ]
    },
    {
     "name": "stderr",
     "output_type": "stream",
     "text": [
      "  3%|▎         | 264/10000 [2:08:22<113:23:39, 41.93s/it]"
     ]
    },
    {
     "name": "stdout",
     "output_type": "stream",
     "text": [
      " lsoda--  at t(=r1) and step size h(=r2), the error\u0000\u0000\n",
      "       test failed repeatedly or with abs(h) = hmin\u0000\u0000\n",
      "      in above,  r1 =  0.1527942932760D+03   r2 =  0.5150599474516D-08\n",
      " lsoda--  at t(=r1) and step size h(=r2), the error\u0000\u0000\n",
      "       test failed repeatedly or with abs(h) = hmin\u0000\u0000\n",
      "      in above,  r1 =  0.1527942932760D+03   r2 =  0.5150599474516D-08\n"
     ]
    },
    {
     "name": "stderr",
     "output_type": "stream",
     "text": [
      "  3%|▎         | 265/10000 [2:09:06<114:28:59, 42.34s/it]"
     ]
    },
    {
     "name": "stdout",
     "output_type": "stream",
     "text": [
      " lsoda--  at t(=r1) and step size h(=r2), the error\u0000\u0000\n",
      "       test failed repeatedly or with abs(h) = hmin\u0000\u0000\n",
      "      in above,  r1 =  0.1831159725657D+03   r2 =  0.2125892931053D-07\n",
      " lsoda--  at t(=r1) and step size h(=r2), the error\u0000\u0000\n",
      "       test failed repeatedly or with abs(h) = hmin\u0000\u0000\n",
      "      in above,  r1 =  0.1831159725657D+03   r2 =  0.2125892931053D-07\n",
      " lsoda--  at t(=r1) and step size h(=r2), the error\u0000\u0000\n",
      "       test failed repeatedly or with abs(h) = hmin\u0000\u0000\n",
      "      in above,  r1 =  0.1831159725657D+03   r2 =  0.2125892931053D-07\n",
      " lsoda--  at t(=r1) and step size h(=r2), the error\u0000\u0000\n",
      "       test failed repeatedly or with abs(h) = hmin\u0000\u0000\n",
      "      in above,  r1 =  0.1831159725657D+03   r2 =  0.2125892931053D-07\n",
      " lsoda--  at t(=r1) and step size h(=r2), the error\u0000\u0000\n",
      "       test failed repeatedly or with abs(h) = hmin\u0000\u0000\n",
      "      in above,  r1 =  0.1831159725657D+03   r2 =  0.2125892931053D-07\n",
      " lsoda--  at t(=r1) and step size h(=r2), the error\u0000\u0000\n",
      "       test failed repeatedly or with abs(h) = hmin\u0000\u0000\n",
      "      in above,  r1 =  0.1831159725657D+03   r2 =  0.2125892931053D-07\n",
      " lsoda--  at t(=r1) and step size h(=r2), the error\u0000\u0000\n",
      "       test failed repeatedly or with abs(h) = hmin\u0000\u0000\n",
      "      in above,  r1 =  0.1831159725657D+03   r2 =  0.2125892931053D-07\n",
      " lsoda--  at t(=r1) and step size h(=r2), the error\u0000\u0000\n",
      "       test failed repeatedly or with abs(h) = hmin\u0000\u0000\n",
      "      in above,  r1 =  0.1831159725657D+03   r2 =  0.2125892931053D-07\n",
      " lsoda--  at t(=r1) and step size h(=r2), the error\u0000\u0000\n",
      "       test failed repeatedly or with abs(h) = hmin\u0000\u0000\n",
      "      in above,  r1 =  0.1831159725657D+03   r2 =  0.2125892931053D-07\n",
      " lsoda--  at t(=r1) and step size h(=r2), the error\u0000\u0000\n",
      "       test failed repeatedly or with abs(h) = hmin\u0000\u0000\n",
      "      in above,  r1 =  0.1831159725657D+03   r2 =  0.2125892931053D-07\n",
      " lsoda--  at t(=r1) and step size h(=r2), the error\u0000\u0000\n",
      "       test failed repeatedly or with abs(h) = hmin\u0000\u0000\n",
      "      in above,  r1 =  0.1831159725657D+03   r2 =  0.2125892931053D-07\n"
     ]
    },
    {
     "name": "stderr",
     "output_type": "stream",
     "text": [
      "  3%|▎         | 266/10000 [2:09:51<116:28:04, 43.07s/it]/var/folders/j5/gzgbj85d7fl1z1qxpqp965kc0000gq/T/ipykernel_92890/4030144366.py:84: RuntimeWarning: invalid value encountered in divide\n",
      "  self.daily_fraction[day] = self.sol[-1] / self.sol[-1].sum()\n",
      "  3%|▎         | 266/10000 [2:10:39<79:41:35, 29.47s/it] \n"
     ]
    },
    {
     "ename": "ValueError",
     "evalue": "Probability function returned NaN",
     "output_type": "error",
     "traceback": [
      "\u001b[0;31m---------------------------------------------------------------------------\u001b[0m",
      "\u001b[0;31mValueError\u001b[0m                                Traceback (most recent call last)",
      "Cell \u001b[0;32mIn[14], line 13\u001b[0m\n\u001b[1;32m     10\u001b[0m \u001b[38;5;66;03m# Now we'll sample for up to max_n steps\u001b[39;00m\n\u001b[1;32m     12\u001b[0m \u001b[38;5;28;01mwith\u001b[39;00m Pool() \u001b[38;5;28;01mas\u001b[39;00m pool:\n\u001b[0;32m---> 13\u001b[0m     \u001b[38;5;28;01mfor\u001b[39;00m sample \u001b[38;5;129;01min\u001b[39;00m sampler\u001b[38;5;241m.\u001b[39msample(pos, iterations\u001b[38;5;241m=\u001b[39mmax_n, progress\u001b[38;5;241m=\u001b[39m\u001b[38;5;28;01mTrue\u001b[39;00m):\n\u001b[1;32m     14\u001b[0m         \u001b[38;5;66;03m# Only check convergence every 100 steps\u001b[39;00m\n\u001b[1;32m     15\u001b[0m         \u001b[38;5;28;01mif\u001b[39;00m sampler\u001b[38;5;241m.\u001b[39miteration \u001b[38;5;241m%\u001b[39m \u001b[38;5;241m100\u001b[39m:\n\u001b[1;32m     16\u001b[0m             \u001b[38;5;28;01mcontinue\u001b[39;00m\n",
      "File \u001b[0;32m~/anaconda3/envs/trna/lib/python3.10/site-packages/emcee/ensemble.py:402\u001b[0m, in \u001b[0;36mEnsembleSampler.sample\u001b[0;34m(self, initial_state, log_prob0, rstate0, blobs0, iterations, tune, skip_initial_state_check, thin_by, thin, store, progress, progress_kwargs)\u001b[0m\n\u001b[1;32m    399\u001b[0m move \u001b[38;5;241m=\u001b[39m \u001b[38;5;28mself\u001b[39m\u001b[38;5;241m.\u001b[39m_random\u001b[38;5;241m.\u001b[39mchoice(\u001b[38;5;28mself\u001b[39m\u001b[38;5;241m.\u001b[39m_moves, p\u001b[38;5;241m=\u001b[39m\u001b[38;5;28mself\u001b[39m\u001b[38;5;241m.\u001b[39m_weights)\n\u001b[1;32m    401\u001b[0m \u001b[38;5;66;03m# Propose\u001b[39;00m\n\u001b[0;32m--> 402\u001b[0m state, accepted \u001b[38;5;241m=\u001b[39m \u001b[43mmove\u001b[49m\u001b[38;5;241;43m.\u001b[39;49m\u001b[43mpropose\u001b[49m\u001b[43m(\u001b[49m\u001b[43mmodel\u001b[49m\u001b[43m,\u001b[49m\u001b[43m \u001b[49m\u001b[43mstate\u001b[49m\u001b[43m)\u001b[49m\n\u001b[1;32m    403\u001b[0m state\u001b[38;5;241m.\u001b[39mrandom_state \u001b[38;5;241m=\u001b[39m \u001b[38;5;28mself\u001b[39m\u001b[38;5;241m.\u001b[39mrandom_state\n\u001b[1;32m    405\u001b[0m \u001b[38;5;28;01mif\u001b[39;00m tune:\n",
      "File \u001b[0;32m~/anaconda3/envs/trna/lib/python3.10/site-packages/emcee/moves/red_blue.py:93\u001b[0m, in \u001b[0;36mRedBlueMove.propose\u001b[0;34m(self, model, state)\u001b[0m\n\u001b[1;32m     90\u001b[0m q, factors \u001b[38;5;241m=\u001b[39m \u001b[38;5;28mself\u001b[39m\u001b[38;5;241m.\u001b[39mget_proposal(s, c, model\u001b[38;5;241m.\u001b[39mrandom)\n\u001b[1;32m     92\u001b[0m \u001b[38;5;66;03m# Compute the lnprobs of the proposed position.\u001b[39;00m\n\u001b[0;32m---> 93\u001b[0m new_log_probs, new_blobs \u001b[38;5;241m=\u001b[39m \u001b[43mmodel\u001b[49m\u001b[38;5;241;43m.\u001b[39;49m\u001b[43mcompute_log_prob_fn\u001b[49m\u001b[43m(\u001b[49m\u001b[43mq\u001b[49m\u001b[43m)\u001b[49m\n\u001b[1;32m     95\u001b[0m \u001b[38;5;66;03m# Loop over the walkers and update them accordingly.\u001b[39;00m\n\u001b[1;32m     96\u001b[0m \u001b[38;5;28;01mfor\u001b[39;00m i, (j, f, nlp) \u001b[38;5;129;01min\u001b[39;00m \u001b[38;5;28menumerate\u001b[39m(\n\u001b[1;32m     97\u001b[0m     \u001b[38;5;28mzip\u001b[39m(all_inds[S1], factors, new_log_probs)\n\u001b[1;32m     98\u001b[0m ):\n",
      "File \u001b[0;32m~/anaconda3/envs/trna/lib/python3.10/site-packages/emcee/ensemble.py:535\u001b[0m, in \u001b[0;36mEnsembleSampler.compute_log_prob\u001b[0;34m(self, coords)\u001b[0m\n\u001b[1;32m    533\u001b[0m \u001b[38;5;66;03m# Check for log_prob returning NaN.\u001b[39;00m\n\u001b[1;32m    534\u001b[0m \u001b[38;5;28;01mif\u001b[39;00m np\u001b[38;5;241m.\u001b[39many(np\u001b[38;5;241m.\u001b[39misnan(log_prob)):\n\u001b[0;32m--> 535\u001b[0m     \u001b[38;5;28;01mraise\u001b[39;00m \u001b[38;5;167;01mValueError\u001b[39;00m(\u001b[38;5;124m\"\u001b[39m\u001b[38;5;124mProbability function returned NaN\u001b[39m\u001b[38;5;124m\"\u001b[39m)\n\u001b[1;32m    537\u001b[0m \u001b[38;5;28;01mreturn\u001b[39;00m log_prob, blob\n",
      "\u001b[0;31mValueError\u001b[0m: Probability function returned NaN"
     ]
    }
   ],
   "source": [
    "max_n = 10000\n",
    "\n",
    "# We'll track how the average autocorrelation time estimate changes\n",
    "index = 0\n",
    "autocorr = np.empty(max_n)\n",
    "\n",
    "# This will be useful to testing convergence\n",
    "old_tau = np.inf\n",
    "\n",
    "# Now we'll sample for up to max_n steps\n",
    "\n",
    "with Pool() as pool:\n",
    "    for sample in sampler.sample(pos, iterations=max_n, progress=True):\n",
    "        # Only check convergence every 100 steps\n",
    "        if sampler.iteration % 100:\n",
    "            continue\n",
    "\n",
    "        # Compute the autocorrelation time so far\n",
    "        # Using tol=0 means that we'll always get an estimate even\n",
    "        # if it isn't trustworthy\n",
    "        tau = sampler.get_autocorr_time(tol=0)\n",
    "        autocorr[index] = np.mean(tau)\n",
    "        index += 1\n",
    "\n",
    "        # Check convergence\n",
    "        converged = np.all(tau * 100 < sampler.iteration)\n",
    "        converged &= np.all(np.abs(old_tau - tau) / tau < 0.01)\n",
    "        if converged:\n",
    "            break\n",
    "        old_tau = tau"
   ]
  },
  {
   "cell_type": "code",
   "execution_count": null,
   "metadata": {},
   "outputs": [],
   "source": []
  }
 ],
 "metadata": {
  "kernelspec": {
   "display_name": "trna",
   "language": "python",
   "name": "python3"
  },
  "language_info": {
   "codemirror_mode": {
    "name": "ipython",
    "version": 3
   },
   "file_extension": ".py",
   "mimetype": "text/x-python",
   "name": "python",
   "nbconvert_exporter": "python",
   "pygments_lexer": "ipython3",
   "version": "3.10.9"
  }
 },
 "nbformat": 4,
 "nbformat_minor": 2
}
